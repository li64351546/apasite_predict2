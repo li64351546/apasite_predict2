{
 "cells": [
  {
   "cell_type": "code",
   "execution_count": 3,
   "id": "ab41eef8",
   "metadata": {},
   "outputs": [],
   "source": [
    "output_extract_file = 'temp_anno_extracted.bed'\n",
    "output_final_extract_file='DATA/hg38_refseq_IDmapping.txt'\n",
    "\n",
    "\n",
    "input_gene_bed_file=output_extract_file\n",
    "output_utr_file=output_final_extract_file\n",
    "temp_file = \"overlap_opposite_strand_subtract.bed\"\n"
   ]
  },
  {
   "cell_type": "code",
   "execution_count": 1,
   "id": "04979965",
   "metadata": {},
   "outputs": [],
   "source": [
    "def UTRs_subtract_refine(UTRs_all):\n",
    "    strand_info = UTRs_all[0].strip('\\n').split('\\t')[-1]\n",
    "    if strand_info == '+':\n",
    "        all_pos = []\n",
    "        for curr_line in UTRs_all:\n",
    "            left_pos = curr_line.strip('\\n').split('\\t')[1]\n",
    "            all_pos.append(int(left_pos))\n",
    "        selected_UTR_index = all_pos.index(min(all_pos))\n",
    "        selected_UTR = UTRs_all[selected_UTR_index]\n",
    "    else:\n",
    "        all_pos = []\n",
    "        for curr_line in UTRs_all:\n",
    "            left_pos = curr_line.strip('\\n').split('\\t')[2]\n",
    "            all_pos.append(int(left_pos))\n",
    "        selected_UTR_index = all_pos.index(max(all_pos))\n",
    "        selected_UTR = UTRs_all[selected_UTR_index]\n",
    "    return selected_UTR\n"
   ]
  },
  {
   "cell_type": "code",
   "execution_count": null,
   "id": "02c72d8d",
   "metadata": {},
   "outputs": [
    {
     "name": "stdout",
     "output_type": "stream",
     "text": [
      "cmd subtractBed -a temp_anno_extracted.bed -b temp_anno_extracted.bed -S > overlap_opposite_strand_subtract.bed\n"
     ]
    },
    {
     "data": {
      "text/plain": [
       "0"
      ]
     },
     "execution_count": 6,
     "metadata": {},
     "output_type": "execute_result"
    }
   ],
   "source": [
    "import os\n",
    "temp_file = \"overlap_opposite_strand_subtract.bed\"\n",
    "cmd = 'subtractBed -a %s -b %s -S > %s' % (input_gene_bed_file, \n",
    "                                           input_gene_bed_file, \n",
    "                                           temp_file)\n",
    "print('cmd',cmd)\n",
    "os.system(cmd)"
   ]
  }
 ],
 "metadata": {
  "kernelspec": {
   "display_name": "li2",
   "language": "python",
   "name": "python3"
  },
  "language_info": {
   "codemirror_mode": {
    "name": "ipython",
    "version": 3
   },
   "file_extension": ".py",
   "mimetype": "text/x-python",
   "name": "python",
   "nbconvert_exporter": "python",
   "pygments_lexer": "ipython3",
   "version": "3.9.23"
  }
 },
 "nbformat": 4,
 "nbformat_minor": 5
}
