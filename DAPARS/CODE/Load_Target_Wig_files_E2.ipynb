{
 "cells": [
  {
   "cell_type": "code",
   "execution_count": 3,
   "id": "139e21c8",
   "metadata": {},
   "outputs": [],
   "source": [
    "#All_samples_extracted_3UTR_coverage_dict=All_samples_Target_3UTR_coverages\n",
    "# np.array(All_Samples_Total_depth),\n",
    "# UTR_events_dict"
   ]
  },
  {
   "cell_type": "code",
   "execution_count": 4,
   "id": "0e320222",
   "metadata": {},
   "outputs": [],
   "source": [
    "import numpy as np\n",
    "import os\n",
    "import sys\n",
    "import datetime\n",
    "\n",
    "import scipy as sp\n",
    "import scipy.stats\n",
    "\n",
    "from bisect import bisect\n",
    "from statsmodels.stats.multitest import multipletests\n",
    "\n",
    "import math"
   ]
  },
  {
   "cell_type": "code",
   "execution_count": 5,
   "id": "a66826b2",
   "metadata": {},
   "outputs": [],
   "source": [
    "def parse_cfgfile(cfg_file):\n",
    "    '''Parse configure file\n",
    "    '''\n",
    "    Group1_Tophat_aligned_file=''\n",
    "    Group2_Tophat_aligned_file=''\n",
    "    output_directory=''\n",
    "    Annotated_3UTR_file=''\n",
    "    Output_result_file=''\n",
    "    Num_least_in_group1_local=''\n",
    "    Num_least_in_group2_local=''\n",
    "    Coverage_cutoff_local = ''\n",
    "    FDR_cutoff_local = ''\n",
    "    Fold_change_cutoff_local = ''\n",
    "    PDUI_cutoff_local = ''\n",
    "    \n",
    "    for line in open(cfg_file,'r'):\n",
    "        if line[0] == '\\n' or line[0] == '#':\n",
    "            comments = line;\n",
    "        else:\n",
    "            line = line.rstrip();\n",
    "            command = line.split('=');\n",
    "            if command[0] == 'Group1_Tophat_aligned_Wig':\n",
    "                Group1_Tophat_aligned_file = command[1].split(',');\n",
    "            if command[0] == 'Group2_Tophat_aligned_Wig':\n",
    "                Group2_Tophat_aligned_file = command[1].split(',');\n",
    "            if command[0] == 'Output_directory':\n",
    "                output_directory = command[1]\n",
    "                if output_directory[-1] != '/':\n",
    "                    output_directory += '/'\n",
    "            if command[0] == 'Annotated_3UTR':\n",
    "                Annotated_3UTR_file = command[1]\n",
    "            if command[0] == 'Output_result_file':\n",
    "                Output_result_file = command[1]\n",
    "            \n",
    "            ##Parameters\n",
    "            if command[0] == 'Num_least_in_group1':\n",
    "                Num_least_in_group1_local = command[1]\n",
    "            if command[0] == 'Num_least_in_group2':\n",
    "                Num_least_in_group2_local = command[1]\n",
    "            if command[0] == 'Coverage_cutoff':\n",
    "                Coverage_cutoff_local = command[1]\n",
    "            if command[0] == 'FDR_cutoff':\n",
    "                FDR_cutoff_local = command[1]\n",
    "            if command[0] == 'Fold_change_cutoff':\n",
    "                Fold_change_cutoff_local = command[1]\n",
    "            if command[0] == 'PDUI_cutoff':\n",
    "                PDUI_cutoff_local = command[1]\n",
    "            \n",
    "    \n",
    "    if Group1_Tophat_aligned_file=='':\n",
    "        print(\"No Tophat aligned BAM file for group 1!\", file=sys.stderr)\n",
    "        exit(1)\n",
    "    if Group2_Tophat_aligned_file=='':\n",
    "        print(\"No Tophat aligned BAM file for group 2!\", file=sys.stderr)\n",
    "        exit(1)\n",
    "    if output_directory=='':\n",
    "        print(\"No output directory!\", file=sys.stderr)\n",
    "        exit(1)\n",
    "    if Annotated_3UTR_file=='':\n",
    "        print(\"No annotated 3' UTR file!\", file=sys.stderr)\n",
    "        exit(1)\n",
    "    if Output_result_file=='':\n",
    "        print(\"No result file name!\", file=sys.stderr)\n",
    "        exit(1)\n",
    "    return Group1_Tophat_aligned_file,Group2_Tophat_aligned_file,output_directory,Annotated_3UTR_file,Output_result_file,Num_least_in_group1_local,Num_least_in_group2_local,Coverage_cutoff_local,FDR_cutoff_local,Fold_change_cutoff_local,PDUI_cutoff_local\n"
   ]
  },
  {
   "cell_type": "code",
   "execution_count": 6,
   "id": "0f6b4c8c",
   "metadata": {},
   "outputs": [],
   "source": [
    "Group1_Tophat_aligned_file,Group2_Tophat_aligned_file,output_directory,Annotated_3UTR_file,Output_result_file,Num_least_in_group1_local,Num_least_in_group2_local,Coverage_cutoff_local,FDR_cutoff_local,Fold_change_cutoff_local,PDUI_cutoff_local = parse_cfgfile('/home/li/桌面/PROJECT6/apasite_predict2/DAPARS/DATA/DaPars_test_data_configure.txt')"
   ]
  },
  {
   "cell_type": "code",
   "execution_count": 7,
   "id": "a10ec9c2",
   "metadata": {},
   "outputs": [],
   "source": [
    "Group1_Tophat_aligned_file=['../DATA/Condition_A_chrX.wig']\n",
    "num_group_1 = len(Group1_Tophat_aligned_file)"
   ]
  },
  {
   "cell_type": "code",
   "execution_count": 8,
   "id": "29b513c6",
   "metadata": {},
   "outputs": [],
   "source": [
    "Annotated_3UTR_file='../DATA/hg19_refseq_extracted_3UTR.bed'"
   ]
  },
  {
   "cell_type": "code",
   "execution_count": 9,
   "id": "4d825043",
   "metadata": {},
   "outputs": [],
   "source": [
    "# All_Sample_files = Group1_Tophat_aligned_file[:]\n",
    "# All_Sample_files.extend(Group2_Tophat_aligned_file)\n",
    "All_Sample_files=['../DATA/Condition_A_chrX.wig', '../DATA/Condition_B_chrX.wig']"
   ]
  },
  {
   "cell_type": "code",
   "execution_count": 10,
   "id": "82e0e37f",
   "metadata": {},
   "outputs": [
    {
     "name": "stdout",
     "output_type": "stream",
     "text": [
      "['chr14', '50792327', '50792946', 'NM_001003805|ATP5S|chr14|+', '0', '+']\n"
     ]
    }
   ],
   "source": [
    "for line in open(Annotated_3UTR_file,'r'):\n",
    "    # print(line)\n",
    "    #strip() 方法用于移除字符串头尾指定的字符\n",
    "    fields = line.strip('\\n').split('\\t')\n",
    "    print(fields)\n",
    "    break"
   ]
  },
  {
   "cell_type": "code",
   "execution_count": 11,
   "id": "be83379a",
   "metadata": {},
   "outputs": [
    {
     "data": {
      "text/plain": [
       "'chr14:50792327-50792946'"
      ]
     },
     "execution_count": 11,
     "metadata": {},
     "output_type": "execute_result"
    }
   ],
   "source": [
    "curr_chr = fields[0]\n",
    "region_start = int(float(fields[1]))\n",
    "region_end   = int(float(fields[2]))\n",
    "UTR_pos = \"%s:%s-%s\" % (curr_chr, region_start, region_end)\n",
    "UTR_pos"
   ]
  },
  {
   "cell_type": "code",
   "execution_count": 12,
   "id": "cd3afc73",
   "metadata": {},
   "outputs": [
    {
     "data": {
      "text/plain": [
       "124"
      ]
     },
     "execution_count": 12,
     "metadata": {},
     "output_type": "execute_result"
    }
   ],
   "source": [
    "end_shift = int(round(abs(int(region_start) - int(region_end)) * 0.2))\n",
    "end_shift"
   ]
  },
  {
   "cell_type": "code",
   "execution_count": 13,
   "id": "9857a2c1",
   "metadata": {},
   "outputs": [
    {
     "data": {
      "text/plain": [
       "'../DATA/Condition_A_chrX.wig'"
      ]
     },
     "execution_count": 13,
     "metadata": {},
     "output_type": "execute_result"
    }
   ],
   "source": [
    "## 加载所有样品的覆盖率\n",
    "## Load coverage for all samples\n",
    "All_samples_extracted_3UTR_coverage_dict = {}\n",
    "for curr_wig_file in All_Sample_files:\n",
    "    break\n",
    "curr_wig_file"
   ]
  },
  {
   "cell_type": "code",
   "execution_count": 14,
   "id": "14bd5d23",
   "metadata": {},
   "outputs": [
    {
     "data": {
      "text/plain": [
       "'chrX\\t0\\t193010\\t0\\n'"
      ]
     },
     "execution_count": 14,
     "metadata": {},
     "output_type": "execute_result"
    }
   ],
   "source": [
    "for line in open(curr_wig_file,'r'):\n",
    "    break\n",
    "line"
   ]
  },
  {
   "cell_type": "code",
   "execution_count": 15,
   "id": "8492cff4",
   "metadata": {},
   "outputs": [
    {
     "data": {
      "text/plain": [
       "['chrX', '0', '193010', '0']"
      ]
     },
     "execution_count": 15,
     "metadata": {},
     "output_type": "execute_result"
    }
   ],
   "source": [
    "fields = line.strip('\\n').split('\\t')\n",
    "fields"
   ]
  },
  {
   "cell_type": "code",
   "execution_count": 16,
   "id": "a3728f01",
   "metadata": {},
   "outputs": [
    {
     "data": {
      "text/plain": [
       "'chrX'"
      ]
     },
     "execution_count": 16,
     "metadata": {},
     "output_type": "execute_result"
    }
   ],
   "source": [
    "chrom_name = fields[0]\n",
    "chrom_name"
   ]
  },
  {
   "cell_type": "code",
   "execution_count": 17,
   "id": "d2db2448",
   "metadata": {},
   "outputs": [
    {
     "data": {
      "text/plain": [
       "193010"
      ]
     },
     "execution_count": 17,
     "metadata": {},
     "output_type": "execute_result"
    }
   ],
   "source": [
    "region_start = int(float(fields[1]))\n",
    "region_end   = int(float(fields[2]))\n",
    "region_end"
   ]
  },
  {
   "cell_type": "code",
   "execution_count": 18,
   "id": "31890f81",
   "metadata": {},
   "outputs": [],
   "source": [
    "curr_strand  = fields[-1]"
   ]
  }
 ],
 "metadata": {
  "kernelspec": {
   "display_name": "li2",
   "language": "python",
   "name": "python3"
  },
  "language_info": {
   "codemirror_mode": {
    "name": "ipython",
    "version": 3
   },
   "file_extension": ".py",
   "mimetype": "text/x-python",
   "name": "python",
   "nbconvert_exporter": "python",
   "pygments_lexer": "ipython3",
   "version": "3.9.23"
  }
 },
 "nbformat": 4,
 "nbformat_minor": 5
}
